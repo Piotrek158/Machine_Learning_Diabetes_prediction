{
 "cells": [
  {
   "cell_type": "markdown",
   "source": [
    "Import potrzebnych bibliotek"
   ],
   "metadata": {
    "collapsed": false
   },
   "id": "6c453438a8afcbfc"
  },
  {
   "cell_type": "code",
   "execution_count": 75,
   "id": "initial_id",
   "metadata": {
    "collapsed": true,
    "ExecuteTime": {
     "end_time": "2023-12-16T13:01:21.083165800Z",
     "start_time": "2023-12-16T13:01:21.060925900Z"
    }
   },
   "outputs": [],
   "source": [
    "import pandas as pd\n",
    "pd.set_option('display.precision', 2)\n",
    "import numpy as np\n",
    "from pathlib import Path"
   ]
  },
  {
   "cell_type": "markdown",
   "source": [
    "Wczyatnie danych z pliku CSV"
   ],
   "metadata": {
    "collapsed": false
   },
   "id": "8b451c8c65f82e7b"
  },
  {
   "cell_type": "code",
   "execution_count": 53,
   "outputs": [],
   "source": [
    "plik = Path('data', 'diabetes_prediction_dataset.csv')\n",
    "df = pd.read_csv(plik)"
   ],
   "metadata": {
    "collapsed": false,
    "ExecuteTime": {
     "end_time": "2023-12-16T12:44:13.704523700Z",
     "start_time": "2023-12-16T12:44:13.597798900Z"
    }
   },
   "id": "7c5aa0510fe1fbd5"
  },
  {
   "cell_type": "markdown",
   "source": [
    "Eksploracyjna analiza danych"
   ],
   "metadata": {
    "collapsed": false
   },
   "id": "ecc96a71f31af0b2"
  },
  {
   "cell_type": "markdown",
   "source": [
    "Sprawdźmy jakie osoby skończyły z cukrzycą (stworzymy dwa dataframe'y z osobami z cukrzcą i bez oraz porównamy różne zmienne w tych dwóch grupach)"
   ],
   "metadata": {
    "collapsed": false
   },
   "id": "cefcc932768a253a"
  },
  {
   "cell_type": "code",
   "execution_count": 58,
   "outputs": [],
   "source": [
    "diabetes = df[df['diabetes'] != 0]\n",
    "no_diabetes = df[df['diabetes'] == 0]"
   ],
   "metadata": {
    "collapsed": false,
    "ExecuteTime": {
     "end_time": "2023-12-16T12:48:52.459535400Z",
     "start_time": "2023-12-16T12:48:52.427935200Z"
    }
   },
   "id": "e79fae2a0b0e1bdb"
  },
  {
   "cell_type": "code",
   "execution_count": 73,
   "outputs": [],
   "source": [
    "avg_glucose_lvl_diab = pd.to_numeric(diabetes['blood_glucose_level']).mean()\n",
    "avg_glucose_lvl_no_diab = pd.to_numeric(no_diabetes['blood_glucose_level']).mean()"
   ],
   "metadata": {
    "collapsed": false,
    "ExecuteTime": {
     "end_time": "2023-12-16T13:00:44.163957500Z",
     "start_time": "2023-12-16T13:00:44.130767700Z"
    }
   },
   "id": "1699823d0317a91f"
  },
  {
   "cell_type": "code",
   "execution_count": 76,
   "outputs": [
    {
     "name": "stdout",
     "output_type": "stream",
     "text": [
      "Średni poziom glukozy wśród osób bez cukrzycy to: 132.85246994535518, a wśród osób z cukrzycą to: 194.09470588235294\n"
     ]
    }
   ],
   "source": [
    "print(f'Średni poziom glukozy wśród osób bez cukrzycy to: {avg_glucose_lvl_no_diab}, a wśród osób z cukrzycą to: {avg_glucose_lvl_diab}')"
   ],
   "metadata": {
    "collapsed": false,
    "ExecuteTime": {
     "end_time": "2023-12-16T13:01:26.778860400Z",
     "start_time": "2023-12-16T13:01:26.765255400Z"
    }
   },
   "id": "18c2ca6425c3f45a"
  },
  {
   "cell_type": "markdown",
   "source": [
    "Powyższego wniosku można było się spodziewać. Sprawdźmy teraz ile osób z cukrzycą i bez ma nadciśnienie"
   ],
   "metadata": {
    "collapsed": false
   },
   "id": "6027095f4addaea0"
  },
  {
   "cell_type": "code",
   "execution_count": 146,
   "outputs": [
    {
     "data": {
      "text/plain": "0    75.44\n1    24.56\nName: udzial_proc, dtype: object"
     },
     "execution_count": 146,
     "metadata": {},
     "output_type": "execute_result"
    }
   ],
   "source": [
    "procent_nadcisnienia_cukrzyca = pd.DataFrame(diabetes.groupby('hypertension').agg({'diabetes': sum}).reset_index(drop=True))\n",
    "populacja = procent_nadcisnienia_cukrzyca['diabetes'].sum()\n",
    "procent_nadcisnienia_cukrzyca['udzial_proc'] = ''\n",
    "for row in procent_nadcisnienia_cukrzyca.index:\n",
    "    procent_nadcisnienia_cukrzyca.at[row, 'udzial_proc'] = (procent_nadcisnienia_cukrzyca.at[row, 'diabetes'] / populacja)*100\n",
    "    \n",
    "procent_nadcisnienia_cukrzyca['udzial_proc']"
   ],
   "metadata": {
    "collapsed": false,
    "ExecuteTime": {
     "end_time": "2023-12-16T13:50:10.091124800Z",
     "start_time": "2023-12-16T13:50:10.022314Z"
    }
   },
   "id": "cf2a1fdc6d5adfc3"
  },
  {
   "cell_type": "code",
   "execution_count": 145,
   "outputs": [
    {
     "data": {
      "text/plain": "0    94.1\n1     5.9\nName: udzial_proc, dtype: object"
     },
     "execution_count": 145,
     "metadata": {},
     "output_type": "execute_result"
    }
   ],
   "source": [
    "procent_nadcisnienia_nie_cukrzyca = pd.DataFrame(no_diabetes.groupby('hypertension')['diabetes'].count().reset_index(drop=True))\n",
    "populacja = procent_nadcisnienia_nie_cukrzyca['diabetes'].sum()\n",
    "procent_nadcisnienia_nie_cukrzyca['udzial_proc'] = ''\n",
    "for row in procent_nadcisnienia_nie_cukrzyca.index:\n",
    "    procent_nadcisnienia_nie_cukrzyca.at[row, 'udzial_proc'] = (procent_nadcisnienia_nie_cukrzyca.at[row, 'diabetes'] / populacja)*100\n",
    "    \n",
    "procent_nadcisnienia_nie_cukrzyca['udzial_proc']"
   ],
   "metadata": {
    "collapsed": false,
    "ExecuteTime": {
     "end_time": "2023-12-16T13:50:02.307846800Z",
     "start_time": "2023-12-16T13:50:02.206267900Z"
    }
   },
   "id": "210de8c21f41293f"
  },
  {
   "cell_type": "markdown",
   "source": [
    "Jak widzimy 25% osób z cukrzycą ma nadciśnienie, a tylko 5.9% osób bez cukrzycy ma nadciśnienie.\n",
    "Sprawdźmy jak wygląda udział historii chorób serca wśród osób z i bez cukrzycy"
   ],
   "metadata": {
    "collapsed": false
   },
   "id": "b0e4258ad271a057"
  },
  {
   "cell_type": "code",
   "execution_count": 144,
   "outputs": [
    {
     "data": {
      "text/plain": "0    97.08\n1     2.92\nName: udzial_proc, dtype: object"
     },
     "execution_count": 144,
     "metadata": {},
     "output_type": "execute_result"
    }
   ],
   "source": [
    "procent_chorob_serca_nie_cukrzyca = pd.DataFrame(no_diabetes.groupby('heart_disease')['diabetes'].count().reset_index(drop=True))\n",
    "populacja = procent_chorob_serca_nie_cukrzyca['diabetes'].sum()\n",
    "procent_chorob_serca_nie_cukrzyca['udzial_proc'] = ''\n",
    "for row in procent_chorob_serca_nie_cukrzyca.index:\n",
    "    procent_chorob_serca_nie_cukrzyca.at[row, 'udzial_proc'] = (procent_chorob_serca_nie_cukrzyca.at[row, 'diabetes'] / populacja)*100\n",
    "    \n",
    "procent_chorob_serca_nie_cukrzyca['udzial_proc']"
   ],
   "metadata": {
    "collapsed": false,
    "ExecuteTime": {
     "end_time": "2023-12-16T13:49:53.743920200Z",
     "start_time": "2023-12-16T13:49:53.697287500Z"
    }
   },
   "id": "bbaba328711df1c9"
  },
  {
   "cell_type": "code",
   "execution_count": 143,
   "outputs": [
    {
     "data": {
      "text/plain": "0    85.09\n1    14.91\nName: udzial_proc, dtype: object"
     },
     "execution_count": 143,
     "metadata": {},
     "output_type": "execute_result"
    }
   ],
   "source": [
    "procent_chorob_serca_cukrzyca = pd.DataFrame(diabetes.groupby('heart_disease').agg({'diabetes': sum}).reset_index())\n",
    "populacja = procent_chorob_serca_cukrzyca['diabetes'].sum()\n",
    "procent_chorob_serca_cukrzyca['udzial_proc'] = ''\n",
    "for row in procent_chorob_serca_cukrzyca.index:\n",
    "    procent_chorob_serca_cukrzyca.at[row, 'udzial_proc'] = (procent_chorob_serca_cukrzyca.at[row, 'diabetes'] / populacja)*100\n",
    "    \n",
    "procent_chorob_serca_cukrzyca['udzial_proc']"
   ],
   "metadata": {
    "collapsed": false,
    "ExecuteTime": {
     "end_time": "2023-12-16T13:49:35.558030200Z",
     "start_time": "2023-12-16T13:49:35.506547700Z"
    }
   },
   "id": "59072052b3540034"
  },
  {
   "cell_type": "markdown",
   "source": [
    "Z tego kroku wynika że osoby z cukrzycą mają w prawie 15% populacji historię chorób serca podczas gdy wśród osób bez cukrzycy ten udział to tylko niecałe 3% osób.\n",
    "Sprawdźmy średnie BMI w obu grupach"
   ],
   "metadata": {
    "collapsed": false
   },
   "id": "a8a52b1121076172"
  },
  {
   "cell_type": "code",
   "execution_count": 147,
   "outputs": [
    {
     "name": "stdout",
     "output_type": "stream",
     "text": [
      "Średnie BMI wśród osób z cukrzycą to: 31.988382352941176, a wśród osób bez cukrzycy to: 26.88716349726776\n"
     ]
    }
   ],
   "source": [
    "bmi_diab = diabetes['bmi'].mean()\n",
    "bmi_no_diab = no_diabetes['bmi'].mean()\n",
    "print(f'Średnie BMI wśród osób z cukrzycą to: {bmi_diab}, a wśród osób bez cukrzycy to: {bmi_no_diab}')"
   ],
   "metadata": {
    "collapsed": false,
    "ExecuteTime": {
     "end_time": "2023-12-16T13:54:15.177165600Z",
     "start_time": "2023-12-16T13:54:15.153452300Z"
    }
   },
   "id": "86f1cf4c005e2fe0"
  },
  {
   "cell_type": "markdown",
   "source": [
    "Po raz kolejny okazuje się że osoby z cukrzycą prowadzą mniej zdrowy tryb życia"
   ],
   "metadata": {
    "collapsed": false
   },
   "id": "d8f7bc4df6373daf"
  },
  {
   "cell_type": "markdown",
   "source": [
    "Sprawdzenie typów danych oraz przekształcenie zmiennych kategorycznych"
   ],
   "metadata": {
    "collapsed": false
   },
   "id": "a20b03854715a773"
  },
  {
   "cell_type": "code",
   "execution_count": 54,
   "outputs": [
    {
     "data": {
      "text/plain": "gender                  object\nage                    float64\nhypertension             int64\nheart_disease            int64\nsmoking_history         object\nbmi                    float64\nHbA1c_level            float64\nblood_glucose_level      int64\ndiabetes                 int64\ndtype: object"
     },
     "execution_count": 54,
     "metadata": {},
     "output_type": "execute_result"
    }
   ],
   "source": [
    "df.dtypes"
   ],
   "metadata": {
    "collapsed": false,
    "ExecuteTime": {
     "end_time": "2023-12-16T12:44:19.486697200Z",
     "start_time": "2023-12-16T12:44:19.469423200Z"
    }
   },
   "id": "c4c46df6cc11e413"
  },
  {
   "cell_type": "markdown",
   "source": [
    "Wiek podany jest w pełnych latach więc zmieniamy typ danych na int"
   ],
   "metadata": {
    "collapsed": false
   },
   "id": "4eba2418e51636d2"
  },
  {
   "cell_type": "code",
   "execution_count": 41,
   "outputs": [],
   "source": [
    "df['age'] = df['age'].astype(int)"
   ],
   "metadata": {
    "collapsed": false,
    "ExecuteTime": {
     "end_time": "2023-12-16T11:51:45.122806700Z",
     "start_time": "2023-12-16T11:51:45.098009200Z"
    }
   },
   "id": "3973244354430a71"
  },
  {
   "cell_type": "markdown",
   "source": [
    "Pozostałe dane które wymagają zmiany typu danych to zmienne kategoryczne - postanowiłem wykorzystać metodę one-hot encoding, w której mając kilka wartości kategorycznych stworzę tyle kolumn binarnych ile mam możliwości wartości - w tym przpadku stworzę 6 column z których tylko jedna przybierze wartość 1 a pozostałe 0 - w ten sposób przedstawię wartość kategoryczną binarnie "
   ],
   "metadata": {
    "collapsed": false
   },
   "id": "90ea50852b300eb3"
  },
  {
   "cell_type": "code",
   "execution_count": 42,
   "outputs": [
    {
     "data": {
      "text/plain": "0          never\n1        No Info\n2        current\n3         former\n4           ever\n5    not current\nName: smoking_history, dtype: object"
     },
     "execution_count": 42,
     "metadata": {},
     "output_type": "execute_result"
    }
   ],
   "source": [
    "df['smoking_history'].drop_duplicates().reset_index(drop=True)"
   ],
   "metadata": {
    "collapsed": false,
    "ExecuteTime": {
     "end_time": "2023-12-16T11:51:46.481389900Z",
     "start_time": "2023-12-16T11:51:46.443408400Z"
    }
   },
   "id": "39025118e025aebd"
  },
  {
   "cell_type": "markdown",
   "source": [
    "Jak widać muszę stworzyć 6 kolumn"
   ],
   "metadata": {
    "collapsed": false
   },
   "id": "274a3e9963010ec"
  },
  {
   "cell_type": "code",
   "execution_count": 43,
   "outputs": [],
   "source": [
    "df['smoking_history_never'] = np.where(df['smoking_history'] == 'never',  1, 0)\n",
    "df['smoking_history_no_info'] = np.where(df['smoking_history'] == 'No Info',  1, 0)\n",
    "df['smoking_history_current'] = np.where(df['smoking_history'] == 'current',  1, 0)\n",
    "df['smoking_history_former'] = np.where(df['smoking_history'] == 'former',  1, 0)\n",
    "df['smoking_history_ever'] = np.where(df['smoking_history'] == 'ever',  1, 0)\n",
    "df['smoking_history_not_current'] = np.where(df['smoking_history'] == 'not current',  1, 0)"
   ],
   "metadata": {
    "collapsed": false,
    "ExecuteTime": {
     "end_time": "2023-12-16T11:51:48.324031900Z",
     "start_time": "2023-12-16T11:51:48.273181400Z"
    }
   },
   "id": "e4c669566f1bbfb5"
  },
  {
   "cell_type": "markdown",
   "source": [
    "Teraz należy zmienić typ danych zmiennej gender"
   ],
   "metadata": {
    "collapsed": false
   },
   "id": "d70c2e6cee5f8eef"
  },
  {
   "cell_type": "code",
   "execution_count": 44,
   "outputs": [
    {
     "data": {
      "text/plain": "0    Female\n1      Male\n2     Other\nName: gender, dtype: object"
     },
     "execution_count": 44,
     "metadata": {},
     "output_type": "execute_result"
    }
   ],
   "source": [
    "df['gender'].drop_duplicates().reset_index(drop=True)"
   ],
   "metadata": {
    "collapsed": false,
    "ExecuteTime": {
     "end_time": "2023-12-16T11:51:49.712101900Z",
     "start_time": "2023-12-16T11:51:49.692869100Z"
    }
   },
   "id": "44ef051aa9095d1f"
  },
  {
   "cell_type": "markdown",
   "source": [
    "Jak widać mamy trzy możliwości wartości zmiennej gender - również zastosuję one-hot encoding"
   ],
   "metadata": {
    "collapsed": false
   },
   "id": "86754c4a295fbcd9"
  },
  {
   "cell_type": "code",
   "execution_count": 45,
   "outputs": [],
   "source": [
    "df['is_male'] = np.where(df['gender'] == 'Male', 1, 0)\n",
    "df['is_female'] = np.where(df['gender'] == 'Female', 1, 0)\n",
    "df['is_other'] = np.where(df['gender'] == 'Other', 1, 0)"
   ],
   "metadata": {
    "collapsed": false,
    "ExecuteTime": {
     "end_time": "2023-12-16T11:51:51.774006600Z",
     "start_time": "2023-12-16T11:51:51.739751300Z"
    }
   },
   "id": "c46cb999c6b9ecb"
  },
  {
   "cell_type": "markdown",
   "source": [
    "Możemy sprawdzić skuteczność konwersji danych poprzez zrobienie testowej kolumny z sumą z kolumn konwertowanych (wynik musi zawsze wynosić 1)"
   ],
   "metadata": {
    "collapsed": false
   },
   "id": "f9e88024c0b7cef"
  },
  {
   "cell_type": "code",
   "execution_count": 46,
   "outputs": [],
   "source": [
    "df['smoking_test'] = df['smoking_history_current'] + df['smoking_history_former'] + df['smoking_history_ever'] + df['smoking_history_never'] + df['smoking_history_no_info'] + df['smoking_history_not_current']\n",
    "\n",
    "df['gender_test'] = df['is_male'] + df['is_female'] + df['is_other']"
   ],
   "metadata": {
    "collapsed": false,
    "ExecuteTime": {
     "end_time": "2023-12-16T11:51:53.249547900Z",
     "start_time": "2023-12-16T11:51:53.221599400Z"
    }
   },
   "id": "eaba70e2e71bed7f"
  },
  {
   "cell_type": "code",
   "execution_count": 47,
   "outputs": [
    {
     "data": {
      "text/plain": "0    1\nName: smoking_test, dtype: int32"
     },
     "execution_count": 47,
     "metadata": {},
     "output_type": "execute_result"
    }
   ],
   "source": [
    "df['smoking_test'].drop_duplicates().reset_index(drop=True)"
   ],
   "metadata": {
    "collapsed": false,
    "ExecuteTime": {
     "end_time": "2023-12-16T11:51:53.902854Z",
     "start_time": "2023-12-16T11:51:53.877442100Z"
    }
   },
   "id": "8afbd0d846a4d0bc"
  },
  {
   "cell_type": "code",
   "execution_count": 48,
   "outputs": [
    {
     "data": {
      "text/plain": "0    1\nName: gender_test, dtype: int32"
     },
     "execution_count": 48,
     "metadata": {},
     "output_type": "execute_result"
    }
   ],
   "source": [
    "df['gender_test'].drop_duplicates().reset_index(drop=True)"
   ],
   "metadata": {
    "collapsed": false,
    "ExecuteTime": {
     "end_time": "2023-12-16T11:51:55.064056300Z",
     "start_time": "2023-12-16T11:51:55.024718500Z"
    }
   },
   "id": "653e49e87bc8b480"
  },
  {
   "cell_type": "markdown",
   "source": [
    "Jak widać nie mamy wartości różnych od 1 więc poprawnie zastosowaliśmy one-hot encoding"
   ],
   "metadata": {
    "collapsed": false
   },
   "id": "dae22ad6155e7b5f"
  },
  {
   "cell_type": "markdown",
   "source": [
    "Sprawdźmy typy danych oraz zróbmy drop niepotrzebynch już kolumn"
   ],
   "metadata": {
    "collapsed": false
   },
   "id": "51eb5cd1459da8ad"
  },
  {
   "cell_type": "code",
   "execution_count": 50,
   "outputs": [],
   "source": [
    "df.drop(columns=['gender', 'smoking_history', 'smoking_test', 'gender_test'], inplace=True)"
   ],
   "metadata": {
    "collapsed": false,
    "ExecuteTime": {
     "end_time": "2023-12-16T11:52:10.880734500Z",
     "start_time": "2023-12-16T11:52:10.844185600Z"
    }
   },
   "id": "216630fde4e12335"
  },
  {
   "cell_type": "code",
   "execution_count": 51,
   "outputs": [
    {
     "data": {
      "text/plain": "age                              int32\nhypertension                     int64\nheart_disease                    int64\nbmi                            float64\nHbA1c_level                    float64\nblood_glucose_level              int64\ndiabetes                         int64\nsmoking_history_never            int32\nsmoking_history_no_info          int32\nsmoking_history_current          int32\nsmoking_history_former           int32\nsmoking_history_ever             int32\nsmoking_history_not_current      int32\nis_male                          int32\nis_female                        int32\nis_other                         int32\ndtype: object"
     },
     "execution_count": 51,
     "metadata": {},
     "output_type": "execute_result"
    }
   ],
   "source": [
    "df.dtypes"
   ],
   "metadata": {
    "collapsed": false,
    "ExecuteTime": {
     "end_time": "2023-12-16T11:52:12.110770200Z",
     "start_time": "2023-12-16T11:52:12.087366500Z"
    }
   },
   "id": "d1581c9a419ac851"
  },
  {
   "cell_type": "markdown",
   "source": [
    "Następnym krokiem będzie standaryzacja danych"
   ],
   "metadata": {
    "collapsed": false
   },
   "id": "de93e5e4980e05c"
  },
  {
   "cell_type": "code",
   "execution_count": null,
   "outputs": [],
   "source": [],
   "metadata": {
    "collapsed": false
   },
   "id": "a4537f731215cc0d"
  }
 ],
 "metadata": {
  "kernelspec": {
   "display_name": "Python 3",
   "language": "python",
   "name": "python3"
  },
  "language_info": {
   "codemirror_mode": {
    "name": "ipython",
    "version": 2
   },
   "file_extension": ".py",
   "mimetype": "text/x-python",
   "name": "python",
   "nbconvert_exporter": "python",
   "pygments_lexer": "ipython2",
   "version": "2.7.6"
  }
 },
 "nbformat": 4,
 "nbformat_minor": 5
}
