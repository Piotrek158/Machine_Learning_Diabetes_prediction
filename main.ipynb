{
 "cells": [
  {
   "cell_type": "markdown",
   "source": [
    "Import potrzebnych bibliotek"
   ],
   "metadata": {
    "collapsed": false
   },
   "id": "6c453438a8afcbfc"
  },
  {
   "cell_type": "code",
   "execution_count": 26,
   "id": "initial_id",
   "metadata": {
    "collapsed": true,
    "ExecuteTime": {
     "end_time": "2023-12-16T11:33:59.241668900Z",
     "start_time": "2023-12-16T11:33:59.229595200Z"
    }
   },
   "outputs": [],
   "source": [
    "import pandas as pd\n",
    "import numpy as np"
   ]
  },
  {
   "cell_type": "markdown",
   "source": [
    "Wczyatnie danych z pliku CSV"
   ],
   "metadata": {
    "collapsed": false
   },
   "id": "8b451c8c65f82e7b"
  },
  {
   "cell_type": "code",
   "execution_count": 14,
   "outputs": [],
   "source": [
    "plik = 'data/diabetes_prediction_dataset.csv'\n",
    "df = pd.read_csv(plik)"
   ],
   "metadata": {
    "collapsed": false,
    "ExecuteTime": {
     "end_time": "2023-12-16T11:25:00.863396500Z",
     "start_time": "2023-12-16T11:25:00.754160100Z"
    }
   },
   "id": "7c5aa0510fe1fbd5"
  },
  {
   "cell_type": "markdown",
   "source": [
    "Sprawdzenie typów danych oraz przekształcenie zmiennych kategorycznych"
   ],
   "metadata": {
    "collapsed": false
   },
   "id": "a20b03854715a773"
  },
  {
   "cell_type": "code",
   "execution_count": 15,
   "outputs": [
    {
     "data": {
      "text/plain": "gender                  object\nage                    float64\nhypertension             int64\nheart_disease            int64\nsmoking_history         object\nbmi                    float64\nHbA1c_level            float64\nblood_glucose_level      int64\ndiabetes                 int64\ndtype: object"
     },
     "execution_count": 15,
     "metadata": {},
     "output_type": "execute_result"
    }
   ],
   "source": [
    "df.dtypes"
   ],
   "metadata": {
    "collapsed": false,
    "ExecuteTime": {
     "end_time": "2023-12-16T11:25:02.254244300Z",
     "start_time": "2023-12-16T11:25:02.228064Z"
    }
   },
   "id": "c4c46df6cc11e413"
  },
  {
   "cell_type": "markdown",
   "source": [
    "Wiek podany jest w pełnych latach więc zmieniamy typ danych na int"
   ],
   "metadata": {
    "collapsed": false
   },
   "id": "4eba2418e51636d2"
  },
  {
   "cell_type": "code",
   "execution_count": 20,
   "outputs": [],
   "source": [
    "df['age'] = df['age'].astype(int)"
   ],
   "metadata": {
    "collapsed": false,
    "ExecuteTime": {
     "end_time": "2023-12-16T11:26:40.709616Z",
     "start_time": "2023-12-16T11:26:40.679642700Z"
    }
   },
   "id": "3973244354430a71"
  },
  {
   "cell_type": "markdown",
   "source": [
    "Pozostałe dane które wymagają zmiany typu danych to zmienne kategoryczne - postanowiłem wykorzystać metodę one-hot encoding, w której mając kilka wartości kategorycznych stworzę tyle kolumn binarnych ile mam możliwości wartości - w tym przpadku stworzę 6 column z których tylko jedna przybierze wartość 1 a pozostałe 0 - w ten sposób przedstawię wartość kategoryczną binarnie "
   ],
   "metadata": {
    "collapsed": false
   },
   "id": "90ea50852b300eb3"
  },
  {
   "cell_type": "code",
   "execution_count": 25,
   "outputs": [
    {
     "data": {
      "text/plain": "0          never\n1        No Info\n2        current\n3         former\n4           ever\n5    not current\nName: smoking_history, dtype: object"
     },
     "execution_count": 25,
     "metadata": {},
     "output_type": "execute_result"
    }
   ],
   "source": [
    "df['smoking_history'].drop_duplicates().reset_index(drop=True)"
   ],
   "metadata": {
    "collapsed": false,
    "ExecuteTime": {
     "end_time": "2023-12-16T11:31:26.967390300Z",
     "start_time": "2023-12-16T11:31:26.931124600Z"
    }
   },
   "id": "39025118e025aebd"
  },
  {
   "cell_type": "markdown",
   "source": [
    "Jak widać muszę stworzyć 6 kolumn"
   ],
   "metadata": {
    "collapsed": false
   },
   "id": "274a3e9963010ec"
  },
  {
   "cell_type": "code",
   "execution_count": 27,
   "outputs": [],
   "source": [
    "df['smoking_history_never'] = np.where(df['smoking_history'] == 'never',  1, 0)\n",
    "df['smoking_history_no_info'] = np.where(df['smoking_history'] == 'No Info',  1, 0)\n",
    "df['smoking_history_current'] = np.where(df['smoking_history'] == 'current',  1, 0)\n",
    "df['smoking_history_former'] = np.where(df['smoking_history'] == 'former',  1, 0)\n",
    "df['smoking_history_ever'] = np.where(df['smoking_history'] == 'ever',  1, 0)\n",
    "df['smoking_history_not_current'] = np.where(df['smoking_history'] == 'not current',  1, 0)"
   ],
   "metadata": {
    "collapsed": false,
    "ExecuteTime": {
     "end_time": "2023-12-16T11:35:19.070635Z",
     "start_time": "2023-12-16T11:35:19.005790Z"
    }
   },
   "id": "e4c669566f1bbfb5"
  },
  {
   "cell_type": "code",
   "execution_count": 28,
   "outputs": [
    {
     "data": {
      "text/plain": "gender                          object\nage                              int32\nhypertension                     int64\nheart_disease                    int64\nsmoking_history                 object\nbmi                            float64\nHbA1c_level                    float64\nblood_glucose_level              int64\ndiabetes                         int64\nsmoking_history_never            int32\nsmoking_history_no_info          int32\nsmoking_history_current          int32\nsmoking_history_former           int32\nsmoking_history_ever             int32\nsmoking_history_not_current      int32\ndtype: object"
     },
     "execution_count": 28,
     "metadata": {},
     "output_type": "execute_result"
    }
   ],
   "source": [
    "df.dtypes"
   ],
   "metadata": {
    "collapsed": false,
    "ExecuteTime": {
     "end_time": "2023-12-16T11:35:23.941598400Z",
     "start_time": "2023-12-16T11:35:23.926383800Z"
    }
   },
   "id": "d1581c9a419ac851"
  },
  {
   "cell_type": "code",
   "execution_count": 29,
   "outputs": [
    {
     "data": {
      "text/plain": "   gender  age  hypertension  heart_disease smoking_history    bmi  \\\n0  Female   80             0              1           never  25.19   \n1  Female   54             0              0         No Info  27.32   \n2    Male   28             0              0           never  27.32   \n3  Female   36             0              0         current  23.45   \n4    Male   76             1              1         current  20.14   \n5  Female   20             0              0           never  27.32   \n6  Female   44             0              0           never  19.31   \n7  Female   79             0              0         No Info  23.86   \n8    Male   42             0              0           never  33.64   \n9  Female   32             0              0           never  27.32   \n\n   HbA1c_level  blood_glucose_level  diabetes  smoking_history_never  \\\n0          6.6                  140         0                      1   \n1          6.6                   80         0                      0   \n2          5.7                  158         0                      1   \n3          5.0                  155         0                      0   \n4          4.8                  155         0                      0   \n5          6.6                   85         0                      1   \n6          6.5                  200         1                      1   \n7          5.7                   85         0                      0   \n8          4.8                  145         0                      1   \n9          5.0                  100         0                      1   \n\n   smoking_history_no_info  smoking_history_current  smoking_history_former  \\\n0                        0                        0                       0   \n1                        1                        0                       0   \n2                        0                        0                       0   \n3                        0                        1                       0   \n4                        0                        1                       0   \n5                        0                        0                       0   \n6                        0                        0                       0   \n7                        1                        0                       0   \n8                        0                        0                       0   \n9                        0                        0                       0   \n\n   smoking_history_ever  smoking_history_not_current  \n0                     0                            0  \n1                     0                            0  \n2                     0                            0  \n3                     0                            0  \n4                     0                            0  \n5                     0                            0  \n6                     0                            0  \n7                     0                            0  \n8                     0                            0  \n9                     0                            0  ",
      "text/html": "<div>\n<style scoped>\n    .dataframe tbody tr th:only-of-type {\n        vertical-align: middle;\n    }\n\n    .dataframe tbody tr th {\n        vertical-align: top;\n    }\n\n    .dataframe thead th {\n        text-align: right;\n    }\n</style>\n<table border=\"1\" class=\"dataframe\">\n  <thead>\n    <tr style=\"text-align: right;\">\n      <th></th>\n      <th>gender</th>\n      <th>age</th>\n      <th>hypertension</th>\n      <th>heart_disease</th>\n      <th>smoking_history</th>\n      <th>bmi</th>\n      <th>HbA1c_level</th>\n      <th>blood_glucose_level</th>\n      <th>diabetes</th>\n      <th>smoking_history_never</th>\n      <th>smoking_history_no_info</th>\n      <th>smoking_history_current</th>\n      <th>smoking_history_former</th>\n      <th>smoking_history_ever</th>\n      <th>smoking_history_not_current</th>\n    </tr>\n  </thead>\n  <tbody>\n    <tr>\n      <th>0</th>\n      <td>Female</td>\n      <td>80</td>\n      <td>0</td>\n      <td>1</td>\n      <td>never</td>\n      <td>25.19</td>\n      <td>6.6</td>\n      <td>140</td>\n      <td>0</td>\n      <td>1</td>\n      <td>0</td>\n      <td>0</td>\n      <td>0</td>\n      <td>0</td>\n      <td>0</td>\n    </tr>\n    <tr>\n      <th>1</th>\n      <td>Female</td>\n      <td>54</td>\n      <td>0</td>\n      <td>0</td>\n      <td>No Info</td>\n      <td>27.32</td>\n      <td>6.6</td>\n      <td>80</td>\n      <td>0</td>\n      <td>0</td>\n      <td>1</td>\n      <td>0</td>\n      <td>0</td>\n      <td>0</td>\n      <td>0</td>\n    </tr>\n    <tr>\n      <th>2</th>\n      <td>Male</td>\n      <td>28</td>\n      <td>0</td>\n      <td>0</td>\n      <td>never</td>\n      <td>27.32</td>\n      <td>5.7</td>\n      <td>158</td>\n      <td>0</td>\n      <td>1</td>\n      <td>0</td>\n      <td>0</td>\n      <td>0</td>\n      <td>0</td>\n      <td>0</td>\n    </tr>\n    <tr>\n      <th>3</th>\n      <td>Female</td>\n      <td>36</td>\n      <td>0</td>\n      <td>0</td>\n      <td>current</td>\n      <td>23.45</td>\n      <td>5.0</td>\n      <td>155</td>\n      <td>0</td>\n      <td>0</td>\n      <td>0</td>\n      <td>1</td>\n      <td>0</td>\n      <td>0</td>\n      <td>0</td>\n    </tr>\n    <tr>\n      <th>4</th>\n      <td>Male</td>\n      <td>76</td>\n      <td>1</td>\n      <td>1</td>\n      <td>current</td>\n      <td>20.14</td>\n      <td>4.8</td>\n      <td>155</td>\n      <td>0</td>\n      <td>0</td>\n      <td>0</td>\n      <td>1</td>\n      <td>0</td>\n      <td>0</td>\n      <td>0</td>\n    </tr>\n    <tr>\n      <th>5</th>\n      <td>Female</td>\n      <td>20</td>\n      <td>0</td>\n      <td>0</td>\n      <td>never</td>\n      <td>27.32</td>\n      <td>6.6</td>\n      <td>85</td>\n      <td>0</td>\n      <td>1</td>\n      <td>0</td>\n      <td>0</td>\n      <td>0</td>\n      <td>0</td>\n      <td>0</td>\n    </tr>\n    <tr>\n      <th>6</th>\n      <td>Female</td>\n      <td>44</td>\n      <td>0</td>\n      <td>0</td>\n      <td>never</td>\n      <td>19.31</td>\n      <td>6.5</td>\n      <td>200</td>\n      <td>1</td>\n      <td>1</td>\n      <td>0</td>\n      <td>0</td>\n      <td>0</td>\n      <td>0</td>\n      <td>0</td>\n    </tr>\n    <tr>\n      <th>7</th>\n      <td>Female</td>\n      <td>79</td>\n      <td>0</td>\n      <td>0</td>\n      <td>No Info</td>\n      <td>23.86</td>\n      <td>5.7</td>\n      <td>85</td>\n      <td>0</td>\n      <td>0</td>\n      <td>1</td>\n      <td>0</td>\n      <td>0</td>\n      <td>0</td>\n      <td>0</td>\n    </tr>\n    <tr>\n      <th>8</th>\n      <td>Male</td>\n      <td>42</td>\n      <td>0</td>\n      <td>0</td>\n      <td>never</td>\n      <td>33.64</td>\n      <td>4.8</td>\n      <td>145</td>\n      <td>0</td>\n      <td>1</td>\n      <td>0</td>\n      <td>0</td>\n      <td>0</td>\n      <td>0</td>\n      <td>0</td>\n    </tr>\n    <tr>\n      <th>9</th>\n      <td>Female</td>\n      <td>32</td>\n      <td>0</td>\n      <td>0</td>\n      <td>never</td>\n      <td>27.32</td>\n      <td>5.0</td>\n      <td>100</td>\n      <td>0</td>\n      <td>1</td>\n      <td>0</td>\n      <td>0</td>\n      <td>0</td>\n      <td>0</td>\n      <td>0</td>\n    </tr>\n  </tbody>\n</table>\n</div>"
     },
     "execution_count": 29,
     "metadata": {},
     "output_type": "execute_result"
    }
   ],
   "source": [
    "df.head(10)"
   ],
   "metadata": {
    "collapsed": false,
    "ExecuteTime": {
     "end_time": "2023-12-16T11:36:27.834656900Z",
     "start_time": "2023-12-16T11:36:27.799209700Z"
    }
   },
   "id": "351e3ec18d4ba3f8"
  },
  {
   "cell_type": "code",
   "execution_count": null,
   "outputs": [],
   "source": [],
   "metadata": {
    "collapsed": false
   },
   "id": "a4537f731215cc0d"
  }
 ],
 "metadata": {
  "kernelspec": {
   "display_name": "Python 3",
   "language": "python",
   "name": "python3"
  },
  "language_info": {
   "codemirror_mode": {
    "name": "ipython",
    "version": 2
   },
   "file_extension": ".py",
   "mimetype": "text/x-python",
   "name": "python",
   "nbconvert_exporter": "python",
   "pygments_lexer": "ipython2",
   "version": "2.7.6"
  }
 },
 "nbformat": 4,
 "nbformat_minor": 5
}
